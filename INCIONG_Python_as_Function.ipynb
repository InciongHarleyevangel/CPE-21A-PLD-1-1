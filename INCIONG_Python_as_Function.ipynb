{
  "nbformat": 4,
  "nbformat_minor": 0,
  "metadata": {
    "colab": {
      "provenance": [],
      "authorship_tag": "ABX9TyPqoK16w4gLATkC3s15I5Mg",
      "include_colab_link": true
    },
    "kernelspec": {
      "name": "python3",
      "display_name": "Python 3"
    },
    "language_info": {
      "name": "python"
    }
  },
  "cells": [
    {
      "cell_type": "markdown",
      "metadata": {
        "id": "view-in-github",
        "colab_type": "text"
      },
      "source": [
        "<a href=\"https://colab.research.google.com/github/InciongHarleyevangel/CPE-21A-PLD-1-1/blob/main/INCIONG_Python_as_Function.ipynb\" target=\"_parent\"><img src=\"https://colab.research.google.com/assets/colab-badge.svg\" alt=\"Open In Colab\"/></a>"
      ]
    },
    {
      "cell_type": "markdown",
      "source": [
        "## **Function Calls**"
      ],
      "metadata": {
        "id": "emHQtED1iqya"
      }
    },
    {
      "cell_type": "code",
      "source": [
        "#Function calls\n",
        "\n",
        "print(abs(-65.43))\n",
        "print(abs(90.0001))"
      ],
      "metadata": {
        "colab": {
          "base_uri": "https://localhost:8080/"
        },
        "id": "mZHYqqOvivni",
        "outputId": "f0521539-c972-44c2-d294-caac8c4dd856"
      },
      "execution_count": 74,
      "outputs": [
        {
          "output_type": "stream",
          "name": "stdout",
          "text": [
            "65.43\n",
            "90.0001\n"
          ]
        }
      ]
    },
    {
      "cell_type": "code",
      "source": [
        "#Other function calls\n",
        "\n",
        "pow(abs(-2),round(6.45))\n"
      ],
      "metadata": {
        "colab": {
          "base_uri": "https://localhost:8080/"
        },
        "id": "cPyE8GMpi_Le",
        "outputId": "5a79a7a9-7b8e-4a98-c9e7-b05255800e75"
      },
      "execution_count": 71,
      "outputs": [
        {
          "output_type": "execute_result",
          "data": {
            "text/plain": [
              "64"
            ]
          },
          "metadata": {},
          "execution_count": 71
        }
      ]
    },
    {
      "cell_type": "code",
      "source": [
        "#Type code function\n",
        "\n",
        "print(-34)\n",
        "print(int(86.1))\n",
        "print(float(598))\n",
        "print(float(-34))"
      ],
      "metadata": {
        "colab": {
          "base_uri": "https://localhost:8080/"
        },
        "id": "tWTXTT6QjQVu",
        "outputId": "b0412151-2533-4e09-9354-8e14a52d7618"
      },
      "execution_count": 69,
      "outputs": [
        {
          "output_type": "stream",
          "name": "stdout",
          "text": [
            "-34\n",
            "86\n",
            "598.0\n",
            "-34.0\n"
          ]
        }
      ]
    },
    {
      "cell_type": "code",
      "source": [
        "#Defining own function\n",
        "\n",
        "farenheit=int(input('Enter the value in Farenheit: '))\n",
        "\n",
        "def convert_to_celsius(farenheit):\n",
        "  convert_to_celsius = (farenheit-32)*(5/9)\n",
        "  return convert_to_celsius\n",
        "\n",
        "print('Converted value in Celsuis:',round(convert_to_celsius(farenheit),2))"
      ],
      "metadata": {
        "colab": {
          "base_uri": "https://localhost:8080/"
        },
        "id": "OFGSFnmdjpAa",
        "outputId": "79d694dd-1209-4bee-c215-1b13974ef5f7"
      },
      "execution_count": 81,
      "outputs": [
        {
          "output_type": "stream",
          "name": "stdout",
          "text": [
            "Enter the value in Farenheit: 132\n",
            "Converted value in Celsuis: 55.56\n"
          ]
        }
      ]
    },
    {
      "cell_type": "code",
      "source": [
        "#Exercises\n",
        "\n",
        "print(min(2,3,4))             #minimum value is 2\n",
        "print(max(2,-3,4,7,-5))       #maximum value is 7\n",
        "print(max(2,-3,min(4,7),-5))  #maximum value is 4 (from the minimum value between 4,7)\n"
      ],
      "metadata": {
        "colab": {
          "base_uri": "https://localhost:8080/"
        },
        "id": "Mhood5nitlcR",
        "outputId": "b0423929-618e-4d6f-e3e7-d0de98b2bd3c"
      },
      "execution_count": 66,
      "outputs": [
        {
          "output_type": "stream",
          "name": "stdout",
          "text": [
            "2\n",
            "7\n",
            "4\n"
          ]
        }
      ]
    }
  ]
}