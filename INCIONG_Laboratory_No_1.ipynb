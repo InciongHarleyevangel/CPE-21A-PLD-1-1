{
  "nbformat": 4,
  "nbformat_minor": 0,
  "metadata": {
    "colab": {
      "provenance": [],
      "authorship_tag": "ABX9TyNqnKGDkYX+bxVfl0omUC3K",
      "include_colab_link": true
    },
    "kernelspec": {
      "name": "python3",
      "display_name": "Python 3"
    },
    "language_info": {
      "name": "python"
    }
  },
  "cells": [
    {
      "cell_type": "markdown",
      "metadata": {
        "id": "view-in-github",
        "colab_type": "text"
      },
      "source": [
        "<a href=\"https://colab.research.google.com/github/InciongHarleyevangel/CPE-21A-PLD-1-1/blob/main/INCIONG_Laboratory_No_1.ipynb\" target=\"_parent\"><img src=\"https://colab.research.google.com/assets/colab-badge.svg\" alt=\"Open In Colab\"/></a>"
      ]
    },
    {
      "cell_type": "markdown",
      "source": [
        "## **Program that computes for sum and average of counting numbers from 1-20**"
      ],
      "metadata": {
        "id": "pAq3hTkxN-HX"
      }
    },
    {
      "cell_type": "code",
      "execution_count": 7,
      "metadata": {
        "colab": {
          "base_uri": "https://localhost:8080/"
        },
        "id": "EnEolVdMLMBi",
        "outputId": "3b914a1c-201b-41ef-a910-fa4402a910b6"
      },
      "outputs": [
        {
          "output_type": "stream",
          "name": "stdout",
          "text": [
            "//Counting numbers from: 1 to 20\n",
            "Sum of the numbers: 210\n",
            "Average of the numbers: 10.5\n"
          ]
        }
      ],
      "source": [
        "n = 20                              #declares the variables\n",
        "totalnumbers = n\n",
        "sum = 0\n",
        "average = 0\n",
        "print(f'//Counting numbers from: 1 to {n}')\n",
        "\n",
        "while n >= 0:                       #while loop that adds the numbers from 1-20\n",
        "  sum += n\n",
        "  n -= 1\n",
        "\n",
        "print('Sum of the numbers:', sum)\n",
        "\n",
        "average = sum/totalnumbers          #formula for the average of the numbers\n",
        "\n",
        "print('Average of the numbers:', average)"
      ]
    },
    {
      "cell_type": "markdown",
      "source": [
        "## **Program that displays Student's Personal Information**"
      ],
      "metadata": {
        "id": "9Mi05LhdO6MZ"
      }
    },
    {
      "cell_type": "code",
      "source": [
        "class Student:                                          #Creates Class and its attributes\n",
        "  def __init__(self, Name, Student_No, Age, School, Course ):   \n",
        "    self.Name = Name\n",
        "    self.Student_No = Student_No\n",
        "    self.Age = Age\n",
        "    self.School = School\n",
        "    self.Course = Course\n",
        "  \n",
        "  def Info(self):                                       #Method to display all information\n",
        "    print(\"My name is\", self.Name)\n",
        "    print(\"My student number is:\", self.Student_No)\n",
        "    print(\"I am\", self.Age, \"Years Old\")\n",
        "    print(\"And I study at\", self.School)\n",
        "    print(\"With a course in\", self.Course)\n",
        "    print('-------------------------------------')\n",
        "\n",
        "class Myself(Student):                                  #Creates Object of the Class\n",
        "  pass\n",
        "\n",
        "myself = Myself('Harley Evangel J. Inciong', 202202622, 19, \"Cavite State University\", \"BS Computer Engineering\")\n",
        "student1 = Student('Juan Crisostomo Y. Ibarra', 199600254, 22, \"Unibersidad ng Pilipnas\", \"BS Medical Technology\")\n",
        "\n",
        "myself.Info()\n",
        "student1.Info()\n",
        "\n",
        "\n"
      ],
      "metadata": {
        "colab": {
          "base_uri": "https://localhost:8080/"
        },
        "id": "fpBHN80cO5QR",
        "outputId": "cdb54f18-1e83-4378-d697-71ebf1557af5"
      },
      "execution_count": 30,
      "outputs": [
        {
          "output_type": "stream",
          "name": "stdout",
          "text": [
            "My name is Harley Evangel J. Inciong\n",
            "My student number is: 202202622\n",
            "I am 19 Years Old\n",
            "And I study at Cavite State University\n",
            "With a course in BS Computer Engineering\n",
            "-------------------------------------\n",
            "My name is Juan Crisostomo Y. Ibarra\n",
            "My student number is: 199600254\n",
            "I am 22 Years Old\n",
            "And I study at Unibersidad ng Pilipnas\n",
            "With a course in BS Medical Technology\n",
            "-------------------------------------\n"
          ]
        }
      ]
    },
    {
      "cell_type": "code",
      "source": [],
      "metadata": {
        "id": "Y_uhyrrfVVhy"
      },
      "execution_count": null,
      "outputs": []
    }
  ]
}