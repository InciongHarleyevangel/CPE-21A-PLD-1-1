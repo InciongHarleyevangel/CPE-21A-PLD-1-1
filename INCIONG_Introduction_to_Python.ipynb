{
  "nbformat": 4,
  "nbformat_minor": 0,
  "metadata": {
    "colab": {
      "provenance": [],
      "authorship_tag": "ABX9TyNpa3SMXbIAwa+H/bro9Hs7",
      "include_colab_link": true
    },
    "kernelspec": {
      "name": "python3",
      "display_name": "Python 3"
    },
    "language_info": {
      "name": "python"
    }
  },
  "cells": [
    {
      "cell_type": "markdown",
      "metadata": {
        "id": "view-in-github",
        "colab_type": "text"
      },
      "source": [
        "<a href=\"https://colab.research.google.com/github/InciongHarleyevangel/CPE-21A-PLD-1-1/blob/main/INCIONG_Introduction_to_Python.ipynb\" target=\"_parent\"><img src=\"https://colab.research.google.com/assets/colab-badge.svg\" alt=\"Open In Colab\"/></a>"
      ]
    },
    {
      "cell_type": "markdown",
      "source": [
        "Indentation"
      ],
      "metadata": {
        "id": "dI9DUHAkZ-yA"
      }
    },
    {
      "cell_type": "code",
      "source": [
        "if 54>29:\n",
        "  print(\"54 is greater than 29\")  #This is a comment\n",
        "  "
      ],
      "metadata": {
        "colab": {
          "base_uri": "https://localhost:8080/"
        },
        "id": "GU6yPtSGaB3x",
        "outputId": "fef03280-aad3-4fdb-d233-5f7311322616"
      },
      "execution_count": 6,
      "outputs": [
        {
          "output_type": "stream",
          "name": "stdout",
          "text": [
            "54 is greater than 29\n"
          ]
        }
      ]
    },
    {
      "cell_type": "markdown",
      "source": [
        "Variable Declaration\n",
        "\n",
        "\n"
      ],
      "metadata": {
        "id": "8xAG5Nr4XuK5"
      }
    },
    {
      "cell_type": "code",
      "source": [
        "#variable with a single value\n",
        "\n",
        "x=5\n",
        "y=45\n",
        "if x < y:\n",
        "  print(\"x is less than y\")\n",
        "else:\n",
        "  print(\"x is greater than y\")\n",
        "\n",
        "#variable with multiple values\n",
        "a,b,c = 25,50,65\n",
        "\n",
        "print(\"The value of a is\", a)\n",
        "print(\"The value of b is\", c)\n",
        "print(\"The value of c is\", b)\n",
        "\n",
        "#multiple variables with single value\n",
        "\n",
        "d=e=f= \"Programming\"\n",
        "print(e)\n",
        "print(f)\n",
        "print(d)\n"
      ],
      "metadata": {
        "colab": {
          "base_uri": "https://localhost:8080/"
        },
        "id": "a4d_RefRX2EX",
        "outputId": "466e7fc1-fe47-4404-8bc0-b291eedbeb0d"
      },
      "execution_count": 27,
      "outputs": [
        {
          "output_type": "stream",
          "name": "stdout",
          "text": [
            "x is less than y\n",
            "The value of a is 25\n",
            "The value of b is 65\n",
            "The value of c is 50\n",
            "Programming\n",
            "Programming\n",
            "Programming\n"
          ]
        }
      ]
    },
    {
      "cell_type": "markdown",
      "source": [
        "Casting and Type() function"
      ],
      "metadata": {
        "id": "D8W6y1mha5je"
      }
    },
    {
      "cell_type": "code",
      "source": [
        "g = int(65)       #integer\n",
        "h = float(65)     #decimal/ fractional part\n",
        "i = \"Harley\"      #string\n",
        "\n",
        "print(g)\n",
        "print(h)\n",
        "print(i)\n",
        "\n",
        "print(type(g))\n",
        "print(type(h))\n",
        "print(type(i))"
      ],
      "metadata": {
        "colab": {
          "base_uri": "https://localhost:8080/"
        },
        "id": "jG1dIemxa9pl",
        "outputId": "1e13d7b2-cfd5-41e7-c879-92b3c46c96bd"
      },
      "execution_count": 26,
      "outputs": [
        {
          "output_type": "stream",
          "name": "stdout",
          "text": [
            "65\n",
            "65.0\n",
            "Harley\n",
            "<class 'int'>\n",
            "<class 'float'>\n",
            "<class 'str'>\n"
          ]
        }
      ]
    },
    {
      "cell_type": "markdown",
      "source": [
        "Double or single quote"
      ],
      "metadata": {
        "id": "u3GQTiX5b2DJ"
      }
    },
    {
      "cell_type": "code",
      "source": [
        "name1 = 'Harley'\n",
        "name2 = \"Inciong\"\n",
        "\n",
        "print(name1)\n",
        "print(name2)"
      ],
      "metadata": {
        "colab": {
          "base_uri": "https://localhost:8080/"
        },
        "id": "xvhRGpCFb6Qn",
        "outputId": "7936012a-60a8-475d-968f-663430247f26"
      },
      "execution_count": 16,
      "outputs": [
        {
          "output_type": "stream",
          "name": "stdout",
          "text": [
            "Harley\n",
            "Inciong\n"
          ]
        }
      ]
    },
    {
      "cell_type": "markdown",
      "source": [
        "Case sensitive"
      ],
      "metadata": {
        "id": "5U0_KwtPcSZv"
      }
    },
    {
      "cell_type": "code",
      "source": [
        "m = \"logic and design\"\n",
        "M = \"Programming\"\n",
        "\n",
        "print(M)\n",
        "print(m)"
      ],
      "metadata": {
        "colab": {
          "base_uri": "https://localhost:8080/"
        },
        "id": "gKwPKmhXclZ-",
        "outputId": "1976cfe6-70ff-4aae-aced-af5189db9158"
      },
      "execution_count": 30,
      "outputs": [
        {
          "output_type": "stream",
          "name": "stdout",
          "text": [
            "Programming\n",
            "logic and design\n"
          ]
        }
      ]
    },
    {
      "cell_type": "markdown",
      "source": [
        "Output variable"
      ],
      "metadata": {
        "id": "5NbwOyK3eG3s"
      }
    },
    {
      "cell_type": "code",
      "source": [
        "u = 'age'\n",
        "U = \"address\"\n",
        "print (\"Please input your\" + \" \" + u)\n",
        "print (\"Please input your\" + \" \" + U)"
      ],
      "metadata": {
        "colab": {
          "base_uri": "https://localhost:8080/"
        },
        "id": "y_SL_qndeKHj",
        "outputId": "a26fc2d8-8ac7-43af-d41a-1d0f4bc377f6"
      },
      "execution_count": 31,
      "outputs": [
        {
          "output_type": "stream",
          "name": "stdout",
          "text": [
            "Please input your age\n",
            "Please input your address\n"
          ]
        }
      ]
    }
  ]
}