{
  "nbformat": 4,
  "nbformat_minor": 0,
  "metadata": {
    "colab": {
      "provenance": [],
      "authorship_tag": "ABX9TyOPI99bSnEAyTFKOSBqH2Mc",
      "include_colab_link": true
    },
    "kernelspec": {
      "name": "python3",
      "display_name": "Python 3"
    },
    "language_info": {
      "name": "python"
    }
  },
  "cells": [
    {
      "cell_type": "markdown",
      "metadata": {
        "id": "view-in-github",
        "colab_type": "text"
      },
      "source": [
        "<a href=\"https://colab.research.google.com/github/InciongHarleyevangel/CPE-21A-PLD-1-1/blob/main/INCIONG_Operations_and_Expressions_in_Python.ipynb\" target=\"_parent\"><img src=\"https://colab.research.google.com/assets/colab-badge.svg\" alt=\"Open In Colab\"/></a>"
      ]
    },
    {
      "cell_type": "markdown",
      "source": [
        "## **Boolean Operators**\n"
      ],
      "metadata": {
        "id": "XHGXRVKixub7"
      }
    },
    {
      "cell_type": "code",
      "source": [
        "a = 69\n",
        "b = 13\n",
        "c = 45\n",
        "\n",
        "print(a>b)\n",
        "print(69==13)\n",
        "\n",
        "c = print(a==b)\n",
        "\n",
        "c"
      ],
      "metadata": {
        "colab": {
          "base_uri": "https://localhost:8080/"
        },
        "id": "2950El_vxxCI",
        "outputId": "f9cf5b0c-ba73-4871-9eea-3684d81a541f"
      },
      "execution_count": 70,
      "outputs": [
        {
          "output_type": "stream",
          "name": "stdout",
          "text": [
            "True\n",
            "False\n",
            "False\n"
          ]
        }
      ]
    },
    {
      "cell_type": "code",
      "source": [
        "print(bool(\"Python\"))\n",
        "print(bool('78'))\n",
        "print(bool(True))\n",
        "print(bool(False))\n",
        "print(bool(1))\n",
        "print(bool(0))\n",
        "print(bool(None))\n",
        "print(bool({}))\n",
        "print(bool([]))\n"
      ],
      "metadata": {
        "colab": {
          "base_uri": "https://localhost:8080/"
        },
        "id": "Ei5nEZlTzUkN",
        "outputId": "0ece5718-a0f5-4d8e-bdc3-df7634a12f33"
      },
      "execution_count": 71,
      "outputs": [
        {
          "output_type": "stream",
          "name": "stdout",
          "text": [
            "True\n",
            "True\n",
            "True\n",
            "False\n",
            "True\n",
            "False\n",
            "False\n",
            "False\n",
            "False\n"
          ]
        }
      ]
    },
    {
      "cell_type": "code",
      "source": [
        "def myFunction(): return True\n",
        "print(myFunction())"
      ],
      "metadata": {
        "colab": {
          "base_uri": "https://localhost:8080/"
        },
        "id": "dxE-eaZX0DPp",
        "outputId": "17cb8c7b-d674-4603-e0c5-f82b5a6678c1"
      },
      "execution_count": 15,
      "outputs": [
        {
          "output_type": "stream",
          "name": "stdout",
          "text": [
            "True\n"
          ]
        }
      ]
    },
    {
      "cell_type": "code",
      "source": [
        "def myFunction(): return True\n",
        "\n",
        "if myFunction():\n",
        "  print(\"True\")\n",
        "else:\n",
        "  print(\"False\")"
      ],
      "metadata": {
        "colab": {
          "base_uri": "https://localhost:8080/"
        },
        "id": "02nIt8Xu0mrn",
        "outputId": "9c5ea7a4-88f8-4a56-c089-046464768016"
      },
      "execution_count": 72,
      "outputs": [
        {
          "output_type": "stream",
          "name": "stdout",
          "text": [
            "True\n"
          ]
        }
      ]
    },
    {
      "cell_type": "code",
      "source": [
        "print (10>9)\n",
        "\n",
        "x = 15 #0000 1111\n",
        "y = 16 #0001 0000\n",
        "print(a==b)\n",
        "print(15==15)\n",
        "print(b!=b)"
      ],
      "metadata": {
        "colab": {
          "base_uri": "https://localhost:8080/"
        },
        "id": "Tfs59a601mvs",
        "outputId": "c6964dc2-267a-4df1-be16-9beb55616eb7"
      },
      "execution_count": 73,
      "outputs": [
        {
          "output_type": "stream",
          "name": "stdout",
          "text": [
            "True\n",
            "False\n",
            "True\n",
            "False\n"
          ]
        }
      ]
    },
    {
      "cell_type": "markdown",
      "source": [
        "# **Python Operators**"
      ],
      "metadata": {
        "id": "lJPrsZfU2cnq"
      }
    },
    {
      "cell_type": "code",
      "source": [
        "print(20+4)\n",
        "print(20-4)\n",
        "print(20*4)\n",
        "print(20/4)\n",
        "print(20%4)\n",
        "print(20//3)\n",
        "print(20**4)"
      ],
      "metadata": {
        "colab": {
          "base_uri": "https://localhost:8080/"
        },
        "id": "R6DyYPgP2hsH",
        "outputId": "020a421a-c138-4f7e-cbc0-ba3dfd8ab9f4"
      },
      "execution_count": 74,
      "outputs": [
        {
          "output_type": "stream",
          "name": "stdout",
          "text": [
            "24\n",
            "16\n",
            "80\n",
            "5.0\n",
            "0\n",
            "6\n",
            "160000\n"
          ]
        }
      ]
    },
    {
      "cell_type": "markdown",
      "source": [
        "# **Bitwise Operators**"
      ],
      "metadata": {
        "id": "yBKp4Fth4E9F"
      }
    },
    {
      "cell_type": "code",
      "source": [
        "a = 60 #0011 1100\n",
        "b = 13 #0000 1101\n",
        "\n",
        "print(a&b)\n",
        "print(a|b)\n",
        "print(a^b)\n",
        "print(-a)\n",
        "print(-b)\n",
        "print(a<<2)\n",
        "print(a>>2)\n",
        "print(b<<2)\n",
        "print(b>>2)"
      ],
      "metadata": {
        "colab": {
          "base_uri": "https://localhost:8080/"
        },
        "id": "WE6VR_8S4F1t",
        "outputId": "e78ddf90-ae68-4a0a-ffcd-f68283d76182"
      },
      "execution_count": 75,
      "outputs": [
        {
          "output_type": "stream",
          "name": "stdout",
          "text": [
            "12\n",
            "61\n",
            "49\n",
            "-60\n",
            "-13\n",
            "240\n",
            "15\n",
            "52\n",
            "3\n"
          ]
        }
      ]
    },
    {
      "cell_type": "markdown",
      "source": [
        "# **Assignment Operator**"
      ],
      "metadata": {
        "id": "RDGXPR7x6pJt"
      }
    },
    {
      "cell_type": "code",
      "source": [
        "w=10\n",
        "w+=3\n",
        "print(w)\n",
        "\n",
        "x=10\n",
        "x-=3\n",
        "print(x)\n",
        "\n",
        "y=10\n",
        "y*=3\n",
        "print(y)\n",
        "\n",
        "z=10\n",
        "z/=3\n",
        "print(z)\n",
        "\n"
      ],
      "metadata": {
        "colab": {
          "base_uri": "https://localhost:8080/"
        },
        "id": "W1J8qnMY6sUz",
        "outputId": "3944a023-733f-4376-8576-57ccec2786e4"
      },
      "execution_count": 76,
      "outputs": [
        {
          "output_type": "stream",
          "name": "stdout",
          "text": [
            "13\n",
            "7\n",
            "30\n",
            "3.3333333333333335\n"
          ]
        }
      ]
    },
    {
      "cell_type": "markdown",
      "source": [
        "# **Logical Operator**"
      ],
      "metadata": {
        "id": "tlwN4qN88Siv"
      }
    },
    {
      "cell_type": "code",
      "source": [
        "r = 37\n",
        "s = 34\n",
        "\n",
        "print(r<s and r==s)\n",
        "print(r>s or r==s)\n",
        "print(not(r==s and r>s))"
      ],
      "metadata": {
        "colab": {
          "base_uri": "https://localhost:8080/"
        },
        "id": "Q2a9cdYN8Us-",
        "outputId": "4c29d1a9-36f9-49b8-b827-15efde7c4f65"
      },
      "execution_count": 77,
      "outputs": [
        {
          "output_type": "stream",
          "name": "stdout",
          "text": [
            "False\n",
            "True\n",
            "True\n"
          ]
        }
      ]
    },
    {
      "cell_type": "markdown",
      "source": [
        "# **Identity Operators**"
      ],
      "metadata": {
        "id": "Q34VIRA5-A95"
      }
    },
    {
      "cell_type": "code",
      "source": [
        "print(a is b)\n",
        "print(a is not b)"
      ],
      "metadata": {
        "colab": {
          "base_uri": "https://localhost:8080/"
        },
        "id": "k88H8iPL-DcI",
        "outputId": "26b3dcbb-0016-4e98-fdaf-619344f25616"
      },
      "execution_count": 78,
      "outputs": [
        {
          "output_type": "stream",
          "name": "stdout",
          "text": [
            "False\n",
            "True\n"
          ]
        }
      ]
    }
  ]
}