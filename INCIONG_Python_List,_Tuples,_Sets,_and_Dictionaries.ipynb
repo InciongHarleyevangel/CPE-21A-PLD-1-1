{
  "nbformat": 4,
  "nbformat_minor": 0,
  "metadata": {
    "colab": {
      "provenance": [],
      "authorship_tag": "ABX9TyNdEzMbasArUYdj8UYZ6i/R",
      "include_colab_link": true
    },
    "kernelspec": {
      "name": "python3",
      "display_name": "Python 3"
    },
    "language_info": {
      "name": "python"
    }
  },
  "cells": [
    {
      "cell_type": "markdown",
      "metadata": {
        "id": "view-in-github",
        "colab_type": "text"
      },
      "source": [
        "<a href=\"https://colab.research.google.com/github/InciongHarleyevangel/CPE-21A-PLD-1-1/blob/main/INCIONG_Python_List%2C_Tuples%2C_Sets%2C_and_Dictionaries.ipynb\" target=\"_parent\"><img src=\"https://colab.research.google.com/assets/colab-badge.svg\" alt=\"Open In Colab\"/></a>"
      ]
    },
    {
      "cell_type": "markdown",
      "source": [
        "## **Python List**"
      ],
      "metadata": {
        "id": "8fMhwNtORMKp"
      }
    },
    {
      "cell_type": "code",
      "source": [
        "pi = 3.1415926535897\n",
        "euler = 2.71828\n",
        "varlist = [3, 4, 'D', 'F', 'Xiao!', pi, euler]\n",
        "\n",
        "print(varlist[4])\n",
        "print(varlist[0])\n",
        "print(varlist[5])\n",
        "\n",
        "varlist.append('Programming')   #Adds the string to the list\n",
        "print(varlist[7])             \n",
        "\n",
        "varlist.remove(pi)              #Removes the value of pi on the list\n",
        "print(varlist[5])\n",
        "\n",
        "len(varlist)                    #Counts the number of values on the list\n"
      ],
      "metadata": {
        "id": "OPTbDhpR8YSS",
        "colab": {
          "base_uri": "https://localhost:8080/"
        },
        "outputId": "e47e6c21-e7c3-47df-beb5-8019efea6a3d"
      },
      "execution_count": 21,
      "outputs": [
        {
          "output_type": "stream",
          "name": "stdout",
          "text": [
            "Xiao!\n",
            "3\n",
            "3.1415926535897\n",
            "Programming\n",
            "2.71828\n"
          ]
        },
        {
          "output_type": "execute_result",
          "data": {
            "text/plain": [
              "7"
            ]
          },
          "metadata": {},
          "execution_count": 21
        }
      ]
    },
    {
      "cell_type": "markdown",
      "source": [
        "## **Python Dictionary**"
      ],
      "metadata": {
        "id": "INlmlyfNRRpd"
      }
    },
    {
      "cell_type": "code",
      "source": [
        "#Python Dictionary\n",
        "\n",
        "names1 = 'Kylie and Jenny'\n",
        "deciVal = 4.768\n",
        "vardict = {\n",
        "    \"name\" : [names1, 'names2'], \n",
        "    \"age\" : 25, \n",
        "    '78' : deciVal, \n",
        "    names1 : 'Route 66'}\n",
        "\n",
        "print(vardict['age'])\n",
        "print(vardict['78'])\n",
        "print(vardict[names1])\n",
        "\n",
        "print(vardict['name'][0])   #Prints out the first value on the list under 'name'\n",
        "print(vardict['name'][1])   #Prints out the second value on the list under 'name'\n",
        "\n",
        "len(vardict)                #Counts the length of dictionary"
      ],
      "metadata": {
        "id": "VbDBmqVq3TvT",
        "colab": {
          "base_uri": "https://localhost:8080/"
        },
        "outputId": "cf1b53c2-8b59-4467-e02f-e56d2b77ad34"
      },
      "execution_count": 20,
      "outputs": [
        {
          "output_type": "stream",
          "name": "stdout",
          "text": [
            "25\n",
            "4.768\n",
            "Route 66\n",
            "Kylie and Jenny\n",
            "names2\n"
          ]
        },
        {
          "output_type": "execute_result",
          "data": {
            "text/plain": [
              "4"
            ]
          },
          "metadata": {},
          "execution_count": 20
        }
      ]
    },
    {
      "cell_type": "markdown",
      "source": [
        "## **List Generators and Comprehension**"
      ],
      "metadata": {
        "id": "WV1H4s5bRexk"
      }
    },
    {
      "cell_type": "code",
      "execution_count": 19,
      "metadata": {
        "colab": {
          "base_uri": "https://localhost:8080/"
        },
        "id": "nLxg1DUz0Zyt",
        "outputId": "ae990ac3-090a-4829-9e70-6d0200fb7bb1"
      },
      "outputs": [
        {
          "output_type": "stream",
          "name": "stdout",
          "text": [
            "[0, 1, 2, 3, 4]\n",
            "[0, 2, 4]\n",
            "[1, 2, 3]\n"
          ]
        }
      ],
      "source": [
        "thislist = [0,1,2,3,4]\n",
        "print(thislist)\n",
        "\n",
        "thislist = range(0, 5, 2)           #Range starting from 0, stops at 5, and steps by 2\n",
        "print([var for var in thislist])\n",
        "\n",
        "thislist = range(1, 4)                 #Range starting from 1, stops at 4\n",
        "print([var for var in thislist])"
      ]
    },
    {
      "cell_type": "markdown",
      "source": [
        "## **Slicing**"
      ],
      "metadata": {
        "id": "8ozKdvXCRiNd"
      }
    },
    {
      "cell_type": "code",
      "source": [
        "VarList = [1, 2, 3, 4, 5, 6, 7, 8, 9, 10]\n",
        "\n",
        "print(VarList[:5])    #lists numbers until the 4th value\n",
        "print(VarList[5:])    #lists numbers from the 5th value\n",
        "print(VarList[:-2])   #lists all numbers except the last 2 values\n",
        "print(VarList[-2:])   #lists the last 2 values\n",
        "print(VarList[2:-2])  #lists numbers from 2nd value to the last not including the last 2 values\n",
        "print(VarList[2:9:2]) #lists numbers from 2nd value to 9th value with 2 steps\n",
        "\n"
      ],
      "metadata": {
        "colab": {
          "base_uri": "https://localhost:8080/"
        },
        "id": "UtgTp4F-kUzY",
        "outputId": "81e21970-8279-43d7-fc7e-290987ab53d1"
      },
      "execution_count": 18,
      "outputs": [
        {
          "output_type": "stream",
          "name": "stdout",
          "text": [
            "[1, 2, 3, 4, 5]\n",
            "[6, 7, 8, 9, 10]\n",
            "[1, 2, 3, 4, 5, 6, 7, 8]\n",
            "[9, 10]\n",
            "[3, 4, 5, 6, 7, 8]\n",
            "[3, 5, 7, 9]\n"
          ]
        }
      ]
    }
  ]
}