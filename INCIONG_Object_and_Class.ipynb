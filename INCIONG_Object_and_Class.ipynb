{
  "nbformat": 4,
  "nbformat_minor": 0,
  "metadata": {
    "colab": {
      "provenance": [],
      "authorship_tag": "ABX9TyPQVZ0c+GD41Laq3mViu/HH",
      "include_colab_link": true
    },
    "kernelspec": {
      "name": "python3",
      "display_name": "Python 3"
    },
    "language_info": {
      "name": "python"
    }
  },
  "cells": [
    {
      "cell_type": "markdown",
      "metadata": {
        "id": "view-in-github",
        "colab_type": "text"
      },
      "source": [
        "<a href=\"https://colab.research.google.com/github/InciongHarleyevangel/CPE-21A-PLD-1-1/blob/main/INCIONG_Object_and_Class.ipynb\" target=\"_parent\"><img src=\"https://colab.research.google.com/assets/colab-badge.svg\" alt=\"Open In Colab\"/></a>"
      ]
    },
    {
      "cell_type": "markdown",
      "source": [
        "## **Introduction to OOP (Object Oriented Programming)**"
      ],
      "metadata": {
        "id": "aqiy1VgxUsU_"
      }
    },
    {
      "cell_type": "code",
      "execution_count": 45,
      "metadata": {
        "colab": {
          "base_uri": "https://localhost:8080/"
        },
        "id": "iIUAGCl_1PJJ",
        "outputId": "f820b418-dc0f-4a7f-d54c-6027391f34c1"
      },
      "outputs": [
        {
          "output_type": "stream",
          "name": "stdout",
          "text": [
            "My name is Harley\n",
            "And I am 19 Years old.\n",
            "My name is Alisa\n",
            "And I am 17 Years old.\n"
          ]
        }
      ],
      "source": [
        "#Example 1\n",
        "\n",
        "#Creating class\n",
        "\n",
        "class Person:                             #Creating class name as Person\n",
        "  def __init__(self, name, age):\n",
        "    self.name = name\n",
        "    self.age = age\n",
        "  \n",
        "person = Person('Harley',19)              #Creating object name person\n",
        "print('My name is', person.name)\n",
        "print('And I am', person.age, 'Years old.')\n",
        "\n",
        "class Student(Person):\n",
        "  pass\n",
        "\n",
        "person2 = Student('Alisa', 17)\n",
        "print('My name is', person2.name)\n",
        "print('And I am', person2.age, 'Years old.')"
      ]
    },
    {
      "cell_type": "code",
      "source": [
        "#Example 2\n",
        "\n",
        "class Car:\n",
        "\n",
        "  car_type = 'Sedan'\n",
        "\n",
        "  def __init__(self, name, mileage):\n",
        "    self.name = name\n",
        "    self.mileage = mileage\n",
        "\n",
        "  def description(self):\n",
        "    return (f\"The {self.name} car gives the mileage of {self.mileage} km/l\")\n",
        "  \n",
        "  def max_speed(self, speed):\n",
        "    return (f\"The {self.name} runs at the maximum speed of {speed} km/hr\")\n",
        "\n",
        "obj2 = Car(\"Honda City\", 24.1)\n",
        "print(obj2.description())\n",
        "print(obj2.max_speed(150))"
      ],
      "metadata": {
        "colab": {
          "base_uri": "https://localhost:8080/"
        },
        "id": "nLEqjY8oWg-u",
        "outputId": "acc64b6a-0086-41f5-a2b6-1494dafc233f"
      },
      "execution_count": 46,
      "outputs": [
        {
          "output_type": "stream",
          "name": "stdout",
          "text": [
            "The Honda City car gives the mileage of 24.1 km/l\n",
            "The Honda City runs at the maximum speed of 150 km/hr\n"
          ]
        }
      ]
    },
    {
      "cell_type": "code",
      "source": [
        "#Application 1 (Activity)\n",
        "#Program that uses class and object; prints the area and perimeter of a square\n",
        "\n",
        "class Shape:\n",
        "\n",
        "  def __init__(self, name, area, perimeter):\n",
        "    self.area = area\n",
        "    self.perimeter = perimeter\n",
        "    self.name = name\n",
        "  \n",
        "  def Area(self):\n",
        "    return (f\"The area of a {self.name} is {self.area} m^2.\")\n",
        "  \n",
        "  def Perimeter(self):\n",
        "    return (f\"The perimeter of a {self.name} is {self.perimeter} m.\")\n",
        "\n",
        "class Square(Shape):\n",
        "  pass\n",
        "\n",
        "Shape1 = Square('Square', 25, 20)\n",
        "print(Shape1.Area())\n",
        "print(Shape1.Perimeter())"
      ],
      "metadata": {
        "colab": {
          "base_uri": "https://localhost:8080/"
        },
        "id": "hO9qajTKZt-d",
        "outputId": "04e6a2c2-c571-4cc0-cb24-8119f372699b"
      },
      "execution_count": 48,
      "outputs": [
        {
          "output_type": "stream",
          "name": "stdout",
          "text": [
            "The area of a Square is 25 m^2.\n",
            "The perimeter of a Square is 20 m.\n"
          ]
        }
      ]
    }
  ]
}