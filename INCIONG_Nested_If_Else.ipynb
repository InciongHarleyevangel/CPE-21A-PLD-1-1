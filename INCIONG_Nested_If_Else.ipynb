{
  "nbformat": 4,
  "nbformat_minor": 0,
  "metadata": {
    "colab": {
      "provenance": [],
      "authorship_tag": "ABX9TyOVTrSxJ8J8CYv91NYjZTD9",
      "include_colab_link": true
    },
    "kernelspec": {
      "name": "python3",
      "display_name": "Python 3"
    },
    "language_info": {
      "name": "python"
    }
  },
  "cells": [
    {
      "cell_type": "markdown",
      "metadata": {
        "id": "view-in-github",
        "colab_type": "text"
      },
      "source": [
        "<a href=\"https://colab.research.google.com/github/InciongHarleyevangel/CPE-21A-PLD-1-1/blob/main/INCIONG_Nested_If_Else.ipynb\" target=\"_parent\"><img src=\"https://colab.research.google.com/assets/colab-badge.svg\" alt=\"Open In Colab\"/></a>"
      ]
    },
    {
      "cell_type": "markdown",
      "source": [
        "### **Nested If Else**"
      ],
      "metadata": {
        "id": "VuekDbl3Xjs0"
      }
    },
    {
      "cell_type": "code",
      "source": [
        "x = int(input('Enter a number: '))\n",
        "\n",
        "if x>10:\n",
        "  print('above ten')\n",
        "  if x>20:\n",
        "    print('above twenty')\n",
        "    if x>30:\n",
        "      print(\"above thirty\")\n",
        "      if x>40:\n",
        "        print('above forty')\n",
        "        if x>50:\n",
        "          print('above fifty')\n",
        "        else:\n",
        "          print('below fifty')\n",
        "      else:\n",
        "        print('below forty')\n",
        "    else:\n",
        "      print(\"below thirty\")\n",
        "  else:\n",
        "    print(\"below twenty\")\n",
        "else:\n",
        "  print('x is not above ten')"
      ],
      "metadata": {
        "colab": {
          "base_uri": "https://localhost:8080/"
        },
        "id": "S9LUaVEvbuSc",
        "outputId": "2ff0af4c-6b44-4268-ac03-a5503b4a01ac"
      },
      "execution_count": 60,
      "outputs": [
        {
          "output_type": "stream",
          "name": "stdout",
          "text": [
            "Enter a number: 67\n",
            "above ten\n",
            "above twenty\n",
            "above thirty\n",
            "above forty\n",
            "above fifty\n"
          ]
        }
      ]
    },
    {
      "cell_type": "markdown",
      "source": [
        "# **Example 1**\n",
        "\n"
      ],
      "metadata": {
        "id": "nFCsSnilfUYE"
      }
    },
    {
      "cell_type": "code",
      "source": [
        "#determines if an input age is qualified or not\n",
        "\n",
        "a = int(input(\"Please enter your age: \"))\n",
        "\n",
        "if a>=18:\n",
        "  print('You are a qualified voter!')\n",
        "elif a>0:\n",
        "  print(\"You are not yet a qualified voter.\")\n",
        "else:\n",
        "  print(\"Please enter a valid number\")\n"
      ],
      "metadata": {
        "colab": {
          "base_uri": "https://localhost:8080/"
        },
        "id": "0nlg6NqSfi38",
        "outputId": "1b38aa9f-810e-4c8c-99fa-dc67165f6673"
      },
      "execution_count": 37,
      "outputs": [
        {
          "output_type": "stream",
          "name": "stdout",
          "text": [
            "Please enter your age: 56\n",
            "You are a qualified voter!\n"
          ]
        }
      ]
    },
    {
      "cell_type": "markdown",
      "source": [
        "# **Example 2**"
      ],
      "metadata": {
        "id": "AyuEtvXHiPs4"
      }
    },
    {
      "cell_type": "code",
      "source": [
        "#determines if an input number is positive, negative, or ZERO\n",
        "\n",
        "b = float(input('Please enter a number: '))\n",
        "\n",
        "if b>0:\n",
        "  print(\"You entered a positive number!\")\n",
        "elif b<0:\n",
        "  print(\"You entered a negative number!\") \n",
        "else:\n",
        "  print(\"You entered neither positive nor negative number!\")\n",
        "  print(\"You entered Zero (0)\")"
      ],
      "metadata": {
        "colab": {
          "base_uri": "https://localhost:8080/"
        },
        "id": "EUh8jdkqiRxg",
        "outputId": "df3038f3-0e0e-4191-faf0-7ea062cd5dc1"
      },
      "execution_count": 49,
      "outputs": [
        {
          "output_type": "stream",
          "name": "stdout",
          "text": [
            "Please enter a number: 67.8\n",
            "You entered a positive number!\n"
          ]
        }
      ]
    },
    {
      "cell_type": "markdown",
      "source": [
        "## **Example 3**"
      ],
      "metadata": {
        "id": "rN9z-ZABjHFH"
      }
    },
    {
      "cell_type": "code",
      "source": [
        "#determines if an input grade passed, failed, or needs remedial\n",
        "\n",
        "c = int(input(\"Please input your grade: \"))\n",
        "\n",
        "if c>=75:\n",
        "  print('Passed')\n",
        "elif c==74:\n",
        "  print('Remedial')\n",
        "elif c>=0:\n",
        "  print('Failed')\n",
        "else:\n",
        "  print('Enter a positive grade')"
      ],
      "metadata": {
        "colab": {
          "base_uri": "https://localhost:8080/"
        },
        "id": "Of9Cmk5ljLNx",
        "outputId": "9feb407e-32ae-4934-b3bf-b4e8ddf1ac6a"
      },
      "execution_count": 59,
      "outputs": [
        {
          "output_type": "stream",
          "name": "stdout",
          "text": [
            "Please input your grade: 56\n",
            "Failed\n"
          ]
        }
      ]
    }
  ]
}