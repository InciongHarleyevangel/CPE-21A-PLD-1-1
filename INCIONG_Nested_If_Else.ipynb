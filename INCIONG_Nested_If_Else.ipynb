{
  "nbformat": 4,
  "nbformat_minor": 0,
  "metadata": {
    "colab": {
      "provenance": [],
      "authorship_tag": "ABX9TyM9dm1hMfWfec/jP9k0bmo2",
      "include_colab_link": true
    },
    "kernelspec": {
      "name": "python3",
      "display_name": "Python 3"
    },
    "language_info": {
      "name": "python"
    }
  },
  "cells": [
    {
      "cell_type": "markdown",
      "metadata": {
        "id": "view-in-github",
        "colab_type": "text"
      },
      "source": [
        "<a href=\"https://colab.research.google.com/github/InciongHarleyevangel/CPE-21A-PLD-1-1/blob/main/INCIONG_Nested_If_Else.ipynb\" target=\"_parent\"><img src=\"https://colab.research.google.com/assets/colab-badge.svg\" alt=\"Open In Colab\"/></a>"
      ]
    },
    {
      "cell_type": "markdown",
      "source": [
        "### **Nested If Else**"
      ],
      "metadata": {
        "id": "VuekDbl3Xjs0"
      }
    },
    {
      "cell_type": "code",
      "source": [
        "x = int(input('Enter a number: '))\n",
        "\n",
        "if x>10:\n",
        "  print('above ten')\n",
        "  if x>20:\n",
        "    print('above twenty')\n",
        "    if x>30:\n",
        "      print(\"above thirty\")\n",
        "      if x>40:\n",
        "        print('above forty')\n",
        "        if x>50:\n",
        "          print('above fifty')\n",
        "        else:\n",
        "          print('below fifty')\n",
        "      else:\n",
        "        print('below forty')\n",
        "    else:\n",
        "      print(\"below thirty\")\n",
        "  else:\n",
        "    print(\"below twenty\")\n",
        "else:\n",
        "  print('x is not above ten')"
      ],
      "metadata": {
        "colab": {
          "base_uri": "https://localhost:8080/"
        },
        "id": "S9LUaVEvbuSc",
        "outputId": "0761b359-51c9-420d-bd6c-1d53ec2a4af1"
      },
      "execution_count": 33,
      "outputs": [
        {
          "output_type": "stream",
          "name": "stdout",
          "text": [
            "Enter a number: 46\n",
            "above ten\n",
            "above twenty\n",
            "above thirty\n",
            "above forty\n",
            "below fifty\n"
          ]
        }
      ]
    },
    {
      "cell_type": "markdown",
      "source": [
        "# **Example 1**\n",
        "\n"
      ],
      "metadata": {
        "id": "nFCsSnilfUYE"
      }
    },
    {
      "cell_type": "code",
      "source": [
        "#determines if an input age is a qualified voter or not (If Elif Else)\n",
        "\n",
        "a = int(input(\"Please enter your age: \"))\n",
        "\n",
        "if a>=18:\n",
        "  print('You are a qualified voter!')\n",
        "elif a>0:\n",
        "  print(\"You are not yet a qualified voter.\")\n",
        "else:\n",
        "  print(\"Please enter a valid number\")\n"
      ],
      "metadata": {
        "colab": {
          "base_uri": "https://localhost:8080/"
        },
        "id": "0nlg6NqSfi38",
        "outputId": "1b38aa9f-810e-4c8c-99fa-dc67165f6673"
      },
      "execution_count": 37,
      "outputs": [
        {
          "output_type": "stream",
          "name": "stdout",
          "text": [
            "Please enter your age: 56\n",
            "You are a qualified voter!\n"
          ]
        }
      ]
    },
    {
      "cell_type": "code",
      "source": [
        "#determines if an input age is a qualified voter or not (Nested Else if)\n",
        "\n",
        "Age = int(input(\"Please enter your age: \"))\n",
        "\n",
        "if Age>0:\n",
        "  print(\"You entered a valid number\") #validates the entered value\n",
        "  if Age>=18:\n",
        "    print(\"You are a qualified voter!\")\n",
        "  else:\n",
        "    print(\"You are not yet a qualified voter!\")\n",
        "else:\n",
        "  print(\"You entered an invalid number\") #prints when the entered value is less than or equal to 0"
      ],
      "metadata": {
        "colab": {
          "base_uri": "https://localhost:8080/"
        },
        "id": "V7t7MGewPXN6",
        "outputId": "5f49ebef-7886-494b-f4b1-e3a2f0c394f3"
      },
      "execution_count": 28,
      "outputs": [
        {
          "output_type": "stream",
          "name": "stdout",
          "text": [
            "Please enter your age: 14\n",
            "You entered a valid number\n",
            "You are not yet a qualified voter!\n"
          ]
        }
      ]
    },
    {
      "cell_type": "markdown",
      "source": [
        "# **Example 2**"
      ],
      "metadata": {
        "id": "AyuEtvXHiPs4"
      }
    },
    {
      "cell_type": "code",
      "source": [
        "#determines if an input number is positive, negative, or ZERO (If Elif Else)\n",
        "\n",
        "b = float(input('Please enter a number: '))\n",
        "\n",
        "if b>0:\n",
        "  print(\"You entered a positive number!\")\n",
        "elif b<0:\n",
        "  print(\"You entered a negative number!\") \n",
        "else:\n",
        "  print(\"You entered neither positive nor negative number!\")\n",
        "  print(\"You entered Zero (0)\")"
      ],
      "metadata": {
        "colab": {
          "base_uri": "https://localhost:8080/"
        },
        "id": "EUh8jdkqiRxg",
        "outputId": "df3038f3-0e0e-4191-faf0-7ea062cd5dc1"
      },
      "execution_count": 49,
      "outputs": [
        {
          "output_type": "stream",
          "name": "stdout",
          "text": [
            "Please enter a number: 67.8\n",
            "You entered a positive number!\n"
          ]
        }
      ]
    },
    {
      "cell_type": "markdown",
      "source": [
        "## **Example 3**"
      ],
      "metadata": {
        "id": "rN9z-ZABjHFH"
      }
    },
    {
      "cell_type": "code",
      "source": [
        "#determines if an input grade passed, failed, or needs remedial (If Elif Else)\n",
        "\n",
        "c = int(input(\"Please input your grade: \"))\n",
        "\n",
        "if c>=75:\n",
        "  print('Assessment: Passed')\n",
        "elif c==74:\n",
        "  print('Assessment: Remedial')\n",
        "elif c>=0:\n",
        "  print('Assessment: Failed')\n",
        "else:\n",
        "  print('Enter a positive grade')"
      ],
      "metadata": {
        "colab": {
          "base_uri": "https://localhost:8080/"
        },
        "id": "Of9Cmk5ljLNx",
        "outputId": "e7821613-e9e6-481e-af13-6395a1429f26"
      },
      "execution_count": 34,
      "outputs": [
        {
          "output_type": "stream",
          "name": "stdout",
          "text": [
            "Please input your grade: 64\n",
            "Assessment: Failed\n"
          ]
        }
      ]
    },
    {
      "cell_type": "code",
      "source": [
        "#determines if an input grade passed, failed, or needs remedial (Nested Else If)\n",
        "\n",
        "grade = int(input(\"Please input your grade: \"))\n",
        "\n",
        "if grade>0:\n",
        "  print(\"You entered a valid number.\") #validates the entered value\n",
        "  if grade==74:\n",
        "    print(\"Assessment: Remedial\")\n",
        "  elif grade>=75:\n",
        "      print(\"Assessment: Passed\")\n",
        "  else:\n",
        "    print(\"Assessment: Failed\")\n",
        "else:\n",
        "  print(\"You entered an invalid grade.\") #prints when the input value is less than 0"
      ],
      "metadata": {
        "colab": {
          "base_uri": "https://localhost:8080/"
        },
        "id": "de09EPuZQeYN",
        "outputId": "9dbd8b0a-9684-46b6-ac70-19baed5fbbca"
      },
      "execution_count": 35,
      "outputs": [
        {
          "output_type": "stream",
          "name": "stdout",
          "text": [
            "Please input your grade: 74\n",
            "You entered a valid number.\n",
            "Assessment: Remedial\n"
          ]
        }
      ]
    }
  ]
}